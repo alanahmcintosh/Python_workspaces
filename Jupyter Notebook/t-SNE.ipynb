{
 "cells": [
  {
   "cell_type": "code",
   "execution_count": null,
   "metadata": {},
   "outputs": [],
   "source": [
    "####import neccessary modules######\n",
    "import csv #import csv so i could csvreader but i didnt actually use this\n",
    "import pandas as pd # pandas to convert my csv to a dataframe\n",
    "from sklearn.preprocessing import StandardScaler #for normalisation\n",
    "import numpy as np \n",
    "from sklearn.decomposition import PCA # for PCA\n",
    "import matplotlib.pyplot as plt\n",
    "from sklearn import manifold\n",
    "from sklearn.manifold import TSNE\n",
    "import mpl_toolkits.mplot3d\n",
    "import seaborn as sns"
   ]
  },
  {
   "cell_type": "code",
   "execution_count": null,
   "metadata": {},
   "outputs": [],
   "source": [
    "######tsne\n",
    "x = expression.iloc[:, ].values \n",
    "ts_expression = TSNE(n_components=2)\n",
    "ts_result = ts_expression.fit_transform(np.transpose(x))\n",
    "print(ts_result)\n",
    "#ts_result_df = pd.DataFrame({'ts_1': ts_expression[:,0], 'ts_2': ts_expression[:,1]})\n",
    "sns.scatterplot(x=ts_result.components_[0,:], y=ts_result.compoennts_[1,:])"
   ]
  }
 ],
 "metadata": {
  "kernelspec": {
   "display_name": "base",
   "language": "python",
   "name": "python3"
  },
  "language_info": {
   "name": "python",
   "version": "3.9.13 (main, Aug 25 2022, 23:26:10) \n[GCC 11.2.0]"
  },
  "orig_nbformat": 4,
  "vscode": {
   "interpreter": {
    "hash": "8f664bc7b08e2611024fa64ff643512fe9a9d18971c14cf49d5a15ec0a97a790"
   }
  }
 },
 "nbformat": 4,
 "nbformat_minor": 2
}
